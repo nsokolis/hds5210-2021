{
 "cells": [
  {
   "cell_type": "markdown",
   "metadata": {
    "nbgrader": {
     "grade": false,
     "grade_id": "cell-fc1c39d0d6f8b82a",
     "locked": true,
     "schema_version": 1,
     "solution": false
    }
   },
   "source": [
    "# Week 12 Programming Assignment\n",
    "\n",
    "As you're working on identifying data for your final project, it's helpful to spend some time exploring your various data files.  For this week's assignment, I'd like you to take a few of the ideas from the the lectures, review assignment, and tonight's lecture to start exploring the data you plan to use for the final project.\n",
    "\n",
    "For the following activities, you can use just one of the data files that you've identified, or you can do the activities using different data files.  That's up to you.  Please describe what you're doing in a Markdown cell or in the comments of your code.  When you've completed the assignment, submit it as normal."
   ]
  },
  {
   "cell_type": "markdown",
   "metadata": {},
   "source": [
    "### 1. Basic Statistics\n",
    "\n",
    "Use Python to read in your data file and show many rows and columns your data has."
   ]
  },
  {
   "cell_type": "code",
   "execution_count": 1,
   "metadata": {},
   "outputs": [
    {
     "data": {
      "text/plain": [
       "(4316, 17)"
      ]
     },
     "execution_count": 1,
     "metadata": {},
     "output_type": "execute_result"
    }
   ],
   "source": [
    "#This is a data set containing every fatal crash in missouri from 2016 to 2020. It was downloaded from the missouri state highway patrol web page:\n",
    "#https://www.mshp.dps.missouri.gov/TR15Map/Search\n",
    "#I would have liked to use all crashes for these years, but the web page does not let you export if there is more than 10,000 cases and there is more than that per month\n",
    "#This data set is publicaly available. The data on this web page has been scrubbed of personal information and many of the other variable columns have been deleted.\n",
    "#This data set is not nearly as complete as something we would use for real world analysis, but it will definitely at least show proof of concept.\n",
    "#The data set has 17 columns and 4316 rows\n",
    "import pandas as pd\n",
    "\n",
    "fatalities = pd.read_csv('Fatalities2016_2020.csv')\n",
    "\n",
    "fatalities.shape"
   ]
  },
  {
   "cell_type": "markdown",
   "metadata": {},
   "source": [
    "### 2. Data Diversity\n",
    "\n",
    "Use Python to identify how many unique values each column in your data has.  Use Python to identify which column has the greatest number of distinct values (aka the most diversity)?"
   ]
  },
  {
   "cell_type": "code",
   "execution_count": 2,
   "metadata": {},
   "outputs": [
    {
     "data": {
      "text/plain": [
       "Map              2\n",
       "Rpt No        4315\n",
       "Weekday          8\n",
       "Date          1618\n",
       "Time          1193\n",
       "Veh Count        9\n",
       "Agency         166\n",
       "Troop            9\n",
       "County         115\n",
       "City           271\n",
       "Type            17\n",
       "Severity         1\n",
       "At Street     3410\n",
       "On Street     1253\n",
       "Light Cond       6\n",
       "Injured         14\n",
       "Killed           5\n",
       "dtype: int64"
      ]
     },
     "execution_count": 2,
     "metadata": {},
     "output_type": "execute_result"
    }
   ],
   "source": [
    "#It appears that the Report Number is has the greatest number of distinct values, as to be expected as each one should be unique\n",
    "\n",
    "fatalities.nunique(axis=0)"
   ]
  },
  {
   "cell_type": "markdown",
   "metadata": {},
   "source": [
    "### 3. Data Redundancy\n",
    "\n",
    "Use Python to identify any columns in your data where the value for every row is the same.  For example, if you had a gender column and all the rows said 'M', then you would want to write the code that helped you determine that."
   ]
  },
  {
   "cell_type": "code",
   "execution_count": 3,
   "metadata": {},
   "outputs": [
    {
     "data": {
      "text/plain": [
       "Map              2\n",
       "Rpt No        4315\n",
       "Weekday          8\n",
       "Date          1618\n",
       "Time          1193\n",
       "Veh Count        9\n",
       "Agency         166\n",
       "Troop            9\n",
       "County         115\n",
       "City           271\n",
       "Type            17\n",
       "Severity         1\n",
       "At Street     3410\n",
       "On Street     1253\n",
       "Light Cond       6\n",
       "Injured         14\n",
       "Killed           5\n",
       "dtype: int64"
      ]
     },
     "execution_count": 3,
     "metadata": {},
     "output_type": "execute_result"
    }
   ],
   "source": [
    "#I'm probably missing the point with this solution, but the code from #2 will tell you this information. Any column that only has 1 unique value\n",
    "#has the same value for every row. In this case, the column \"Severity\" has the same value for every column which makes sense as this data set\n",
    "#was filtered to only include fatal crashes. Maybe this is a cheater's way out of it, but it works!\n",
    "\n",
    "fatalities.nunique(axis=0)"
   ]
  },
  {
   "cell_type": "markdown",
   "metadata": {},
   "source": [
    "### 4. Range of Values\n",
    "\n",
    "Your data almost certainly has some numeric columns that can be summed or averaged.  Create a histogram that shows the distribution of values for this column."
   ]
  },
  {
   "cell_type": "code",
   "execution_count": 4,
   "metadata": {},
   "outputs": [
    {
     "data": {
      "text/plain": [
       "<matplotlib.axes._subplots.AxesSubplot at 0x7f5da414a240>"
      ]
     },
     "execution_count": 4,
     "metadata": {},
     "output_type": "execute_result"
    },
    {
     "data": {
      "image/png": "[encoded data removed]",
      "text/plain": [
       "<Figure size 432x288 with 1 Axes>"
      ]
     },
     "metadata": {
      "needs_background": "light"
     },
     "output_type": "display_data"
    }
   ],
   "source": [
    "#this graph shows an overwhelming number of fatal crashes in this time frame occured with 1 and 2 vehicles involved. Very few occured with 3+ vehicles involved\n",
    "\n",
    "fatalities['Veh Count'].hist()"
   ]
  },
  {
   "cell_type": "markdown",
   "metadata": {},
   "source": [
    "### 5. Discussion\n",
    "\n",
    "Do any additional exploration of this data that you think may be interesting and include your code here.  Then go onto Slack and make a post about what you've observed.  Share your observation.  Share your code, if you like.  Share a screenshot of the data or a chart based on the data.\n",
    "\n",
    "Then comment on at least two other people's observations that they share on Slack.  (Use the reply as thread option in Slack to keep the conversation organized.)"
   ]
  },
  {
   "cell_type": "code",
   "execution_count": 25,
   "metadata": {},
   "outputs": [],
   "source": [
    "import matplotlib.pyplot as plt\n",
    "import numpy as np\n",
    "\n",
    "import datetime\n",
    "\n",
    "fatalities['Date'] = fatalities['Date'].astype(\"datetime64\")\n",
    "\n",
    "fatalities['Month'] = fatalities['Date'].dt.month\n",
    "\n",
    "fatalities['Year'] = fatalities['Date'].dt.year"
   ]
  },
  {
   "cell_type": "code",
   "execution_count": 26,
   "metadata": {},
   "outputs": [
    {
     "data": {
      "text/plain": [
       "<matplotlib.axes._subplots.AxesSubplot at 0x7f5da004c128>"
      ]
     },
     "execution_count": 26,
     "metadata": {},
     "output_type": "execute_result"
    },
    {
     "data": {
      "image/png": "[encoded data removed]",
      "text/plain": [
       "<Figure size 720x360 with 1 Axes>"
      ]
     },
     "metadata": {
      "needs_background": "light"
     },
     "output_type": "display_data"
    }
   ],
   "source": [
    "#It is interesting to see there is a rather large increase in fatal crashes Jun-Sep.The warmer months pose less weather related issues indicating\n",
    "#the warmer weather may change driving behavior.\n",
    "fatalities.groupby('Month')['Killed'].agg('sum').plot(figsize = (10,5))"
   ]
  },
  {
   "cell_type": "code",
   "execution_count": 27,
   "metadata": {},
   "outputs": [
    {
     "data": {
      "text/plain": [
       "<matplotlib.axes._subplots.AxesSubplot at 0x7f5d9ffb1a20>"
      ]
     },
     "execution_count": 27,
     "metadata": {},
     "output_type": "execute_result"
    },
    {
     "data": {
      "image/png": "[encoded data removed]",
      "text/plain": [
       "<Figure size 720x360 with 1 Axes>"
      ]
     },
     "metadata": {
      "needs_background": "light"
     },
     "output_type": "display_data"
    }
   ],
   "source": [
    "#This is really surprising to see such a large jump in fatalities for 2020. \n",
    "#In my final project, I'll add in data that has VMT (vehicle miles traveled) for the state. VMT was drastically lower (10-15%+ accross the country) in 2020\n",
    "#so it is surprising to see a large jump in fatalities. This may indicate the lower traffic volumes and lack of enforcement prompted an increase in \n",
    "#dangerous driving behavior.\n",
    "fatalities.groupby('Year')['Killed'].agg('sum').plot(figsize = (10,5))"
   ]
  },
  {
   "cell_type": "code",
   "execution_count": 28,
   "metadata": {},
   "outputs": [],
   "source": [
    "#This filters the data to only include St. Louis City\n",
    "\n",
    "stl_filter = fatalities['County'] == 'ST. LOUIS CITY'\n",
    "\n",
    "stl_fatalities = fatalities[stl_filter]"
   ]
  },
  {
   "cell_type": "code",
   "execution_count": 29,
   "metadata": {},
   "outputs": [
    {
     "data": {
      "text/plain": [
       "<matplotlib.axes._subplots.AxesSubplot at 0x7f5d9ffb4160>"
      ]
     },
     "execution_count": 29,
     "metadata": {},
     "output_type": "execute_result"
    },
    {
     "data": {
      "image/png": "[encoded data removed]",
      "text/plain": [
       "<Figure size 720x360 with 1 Axes>"
      ]
     },
     "metadata": {
      "needs_background": "light"
     },
     "output_type": "display_data"
    }
   ],
   "source": [
    "#This again is pretty shocking to see the massive increase during the pandemic year. \n",
    "#By the nature of the variability of crashes, the number of crashes and fatalities wavers year to year with a downward trend over time\n",
    "#if you expanded the data set back further. A 33% increase between 2019 and 2020 is massive and very surprising to see again considering\n",
    "#the low traffic volumes due to the pandemic\n",
    "\n",
    "stl_fatalities.groupby('Year')['Killed'].agg('sum').plot(figsize = (10,5))"
   ]
  },
  {
   "cell_type": "code",
   "execution_count": 30,
   "metadata": {},
   "outputs": [],
   "source": [
    "byyear = stl_fatalities.groupby('Year')['Killed'].agg('sum')"
   ]
  },
  {
   "cell_type": "code",
   "execution_count": 31,
   "metadata": {},
   "outputs": [
    {
     "data": {
      "text/plain": [
       "Year\n",
       "2016    62\n",
       "2017    57\n",
       "2018    52\n",
       "2019    60\n",
       "2020    81\n",
       "Name: Killed, dtype: int64"
      ]
     },
     "execution_count": 31,
     "metadata": {},
     "output_type": "execute_result"
    }
   ],
   "source": [
    "byyear.head()"
   ]
  },
  {
   "cell_type": "code",
   "execution_count": 40,
   "metadata": {},
   "outputs": [
    {
     "data": {
      "text/plain": [
       "Text(0.5, 1.0, 'STL Fatal Crashes by Year 2016-2020')"
      ]
     },
     "execution_count": 40,
     "metadata": {},
     "output_type": "execute_result"
    },
    {
     "data": {
      "image/png": "[encoded data removed]",
      "text/plain": [
       "<Figure size 432x288 with 1 Axes>"
      ]
     },
     "metadata": {
      "needs_background": "light"
     },
     "output_type": "display_data"
    }
   ],
   "source": [
    "x = [2016, 2017, 2018, 2019, 2020]\n",
    "\n",
    "y = [62, 57, 52, 60, 81]\n",
    "\n",
    "plt.plot(x, y, label = 'Fatalities by Year')\n",
    "plt.xticks(np.arange(2016, 2021, 1))\n",
    "plt.xlabel('Year')\n",
    "plt.ylabel('Fatal Crashes')\n",
    "plt.title('STL Fatal Crashes by Year 2016-2020')"
   ]
  },
  {
   "cell_type": "code",
   "execution_count": 33,
   "metadata": {},
   "outputs": [],
   "source": [
    "statebyyear = fatalities.groupby('Year')['Killed'].agg('sum')"
   ]
  },
  {
   "cell_type": "code",
   "execution_count": 34,
   "metadata": {},
   "outputs": [
    {
     "data": {
      "text/plain": [
       "Year\n",
       "2016    947\n",
       "2017    932\n",
       "2018    921\n",
       "2019    881\n",
       "2020    985\n",
       "Name: Killed, dtype: int64"
      ]
     },
     "execution_count": 34,
     "metadata": {},
     "output_type": "execute_result"
    }
   ],
   "source": [
    "statebyyear.head()"
   ]
  },
  {
   "cell_type": "code",
   "execution_count": 39,
   "metadata": {},
   "outputs": [
    {
     "data": {
      "text/plain": [
       "Text(0.5, 1.0, 'MO Fatal Crashes by Year 2016-2020')"
      ]
     },
     "execution_count": 39,
     "metadata": {},
     "output_type": "execute_result"
    },
    {
     "data": {
      "image/png": "[encoded data removed]",
      "text/plain": [
       "<Figure size 432x288 with 1 Axes>"
      ]
     },
     "metadata": {
      "needs_background": "light"
     },
     "output_type": "display_data"
    }
   ],
   "source": [
    "x = [2016, 2017, 2018, 2019, 2020]\n",
    "\n",
    "y = [947, 932, 921, 881, 985]\n",
    "\n",
    "plt.plot(x, y, label = 'Fatalities by Year')\n",
    "plt.xticks(np.arange(2016, 2021, 1))\n",
    "plt.xlabel('Year')\n",
    "plt.ylabel('Fatal Crashes')\n",
    "plt.title('MO Fatal Crashes by Year 2016-2020')"
   ]
  },
  {
   "cell_type": "code",
   "execution_count": null,
   "metadata": {},
   "outputs": [],
   "source": []
  },
  {
   "cell_type": "code",
   "execution_count": null,
   "metadata": {},
   "outputs": [],
   "source": []
  },
  {
   "cell_type": "code",
   "execution_count": null,
   "metadata": {},
   "outputs": [],
   "source": []
  },
  {
   "cell_type": "code",
   "execution_count": null,
   "metadata": {},
   "outputs": [],
   "source": []
  },
  {
   "cell_type": "code",
   "execution_count": null,
   "metadata": {},
   "outputs": [],
   "source": []
  },
  {
   "cell_type": "markdown",
   "metadata": {},
   "source": [
    "---\n",
    "\n",
    "## Submitting Your Work\n",
    "\n",
    "In order to submit your work, you'll need to use the `git` command line program to **add** your homework file (this file) to your local repository, **commit** your changes to your local repository, and then **push** those changes up to github.com.  From there, I'll be able to **pull** the changes down and do my grading.  I'll provide some feedback, **commit** and **push** my comments back to you.  The first line of code below will **pull** down my comments into your local folders.\n",
    "\n",
    "To run through everything one last time and submit your work:\n",
    "1. Use the `Kernel` -> `Restart Kernel and Run All Cells` menu option to run everything from top to bottom and stop here.\n",
    "2. Save this note with Ctrl-S (or Cmd-S)\n",
    "2. Skip down to the last command cell (the one starting with `%%bash`) and run that cell.\n",
    "\n",
    "If anything fails along the way with this submission part of the process, let me know.  I'll help you troubleshoort."
   ]
  },
  {
   "cell_type": "code",
   "execution_count": 10,
   "metadata": {},
   "outputs": [
    {
     "ename": "AssertionError",
     "evalue": "DO NOT REMOVE THIS LINE",
     "output_type": "error",
     "traceback": [
      "\u001b[0;31m---------------------------------------------------------------------------\u001b[0m",
      "\u001b[0;31mAssertionError\u001b[0m                            Traceback (most recent call last)",
      "\u001b[0;32m<ipython-input-10-cef8011cb395>\u001b[0m in \u001b[0;36m<module>\u001b[0;34m\u001b[0m\n\u001b[0;32m----> 1\u001b[0;31m \u001b[0;32massert\u001b[0m \u001b[0;32mFalse\u001b[0m\u001b[0;34m,\u001b[0m \u001b[0;34m\"DO NOT REMOVE THIS LINE\"\u001b[0m\u001b[0;34m\u001b[0m\u001b[0;34m\u001b[0m\u001b[0m\n\u001b[0m",
      "\u001b[0;31mAssertionError\u001b[0m: DO NOT REMOVE THIS LINE"
     ]
    }
   ],
   "source": [
    "assert False, \"DO NOT REMOVE THIS LINE\""
   ]
  },
  {
   "cell_type": "markdown",
   "metadata": {},
   "source": [
    "---"
   ]
  },
  {
   "cell_type": "code",
   "execution_count": 11,
   "metadata": {},
   "outputs": [
    {
     "name": "stdout",
     "output_type": "stream",
     "text": [
      "Updating d20534e..ab20703\n",
      "Fast-forward\n",
      " week09/feedback.md | 1 +\n",
      " 1 file changed, 1 insertion(+)\n",
      " create mode 100644 week09/feedback.md\n",
      "[main 58c1bb3] Submitting the week 12 assignment\n",
      " 2 files changed, 470 insertions(+), 2 deletions(-)\n",
      " create mode 100644 week12/week12_assignment_2.ipynb\n"
     ]
    },
    {
     "name": "stderr",
     "output_type": "stream",
     "text": [
      "From github.com:nsokolis/hds5210-2021\n",
      "   d20534e..ab20703  main       -> origin/main\n",
      "To github.com:nsokolis/hds5210-2021.git\n",
      "   ab20703..58c1bb3  main -> main\n"
     ]
    }
   ],
   "source": [
    "%%bash\n",
    "git pull\n",
    "git add week12_assignment_2.ipynb\n",
    "git commit -a -m \"Submitting the week 12 assignment\"\n",
    "git push"
   ]
  },
  {
   "cell_type": "markdown",
   "metadata": {},
   "source": [
    "\n",
    "---\n",
    "\n",
    "If the message above says something like _Submitting the week 10 review exercises_ or _Everything is up to date_, then your work was submitted correctly."
   ]
  }
 ],
 "metadata": {
  "celltoolbar": "Create Assignment",
  "kernelspec": {
   "display_name": "Python 3",
   "language": "python",
   "name": "python3"
  },
  "language_info": {
   "codemirror_mode": {
    "name": "ipython",
    "version": 3
   },
   "file_extension": ".py",
   "mimetype": "text/x-python",
   "name": "python",
   "nbconvert_exporter": "python",
   "pygments_lexer": "ipython3",
   "version": "3.6.7"
  }
 },
 "nbformat": 4,
 "nbformat_minor": 2
}
